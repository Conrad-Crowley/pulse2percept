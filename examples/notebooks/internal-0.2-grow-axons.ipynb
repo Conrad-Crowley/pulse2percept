{
 "cells": [
  {
   "cell_type": "code",
   "execution_count": 1,
   "metadata": {
    "collapsed": true,
    "deletable": true,
    "editable": true
   },
   "outputs": [],
   "source": [
    "import matplotlib.pyplot as plt\n",
    "%matplotlib inline"
   ]
  },
  {
   "cell_type": "code",
   "execution_count": 2,
   "metadata": {
    "collapsed": false,
    "deletable": true,
    "editable": true
   },
   "outputs": [],
   "source": [
    "def grow_axon(phi0, n_rho=801, rho_range=(4.0, 45.0), loc_od=(15.0, 2.0),\n",
    "              beta_sup=-1.9, beta_inf=0.5):\n",
    "    \"\"\"Grows a single axon based on the model by Jansonius et al. (2009)\n",
    "\n",
    "    This function generates the trajectory of a single nerve fiber bundle based\n",
    "    on the mathematical model described in:\n",
    "\n",
    "    > Jansionus et al. (2009). A mathematical description of nerve fiber bundle\n",
    "    > trajectories and their variability in the human retina. Vis Res 49:\n",
    "    > 2157-2163.\n",
    "\n",
    "    Parameters\n",
    "    ----------\n",
    "    phi0 : float\n",
    "        Angular position of the axon at its starting point (polar coordinates,\n",
    "        degrees). Must be within [-180, 180].\n",
    "    n_rho : int, optional, default: 801\n",
    "        Number of sampling point along the radial axis (polar coordinates).\n",
    "    rho_range : (rho_min, rho_max), optional, default: (4.0, 45.0)\n",
    "        Lower and upper bounds for the radial position values (polar\n",
    "        coordinates).\n",
    "    loc_od : (x_od, y_od), optional, default: (15.0, 2.0)\n",
    "        Location of the center of the optic disc (x, y) in Cartesian\n",
    "        coordinates.\n",
    "    beta_sup : float, optional, default: -1.9\n",
    "        Scalar value for the superior retina (see Eq. 5, `\\beta_s` in the\n",
    "        paper).\n",
    "    beta_inf : float, optional, default: 0.5\n",
    "        Scalar value for the inferior retina (see Eq. 6, `\\beta_i` in the\n",
    "        paper.)\n",
    "    \"\"\"\n",
    "    if np.abs(phi0) > 180.0:\n",
    "        raise ValueError('phi0 must be within [-180, 180].')\n",
    "    if n_rho < 1:\n",
    "        raise ValueError('Number of radial sampling points must be >= 1.')\n",
    "    if np.any(np.abs(rho_range) < 0):\n",
    "        raise ValueError('rho cannot be negative.')\n",
    "    if rho_range[0] > rho_range[1]:\n",
    "        raise ValueError('Lower bound on rho cannot be larger than the '\n",
    "                         ' upper bound.')\n",
    "    is_superior = phi0 > 0\n",
    "    if is_superior:\n",
    "        # Axon is in superior retina, compute `b` (real number) from Eq. 5:\n",
    "        b = np.exp(beta_sup + 3.9 * np.tanh(-(phi0 - 121.0) / 14.0))\n",
    "        # Equation 3, `c` a positive real number:\n",
    "        c = 1.9 + 1.4 * np.tanh((phi0 - 121.0) / 14.0)\n",
    "    else:\n",
    "        # Axon is in inferior retina: compute `b` (real number) from Eq. 6:\n",
    "        b = -np.exp(beta_inf + 1.5 * np.tanh(-(-phi0 - 90.0) / 25.0))\n",
    "        # Equation 4, `c` a positive real number:\n",
    "        c = 1.0 + 0.5 * np.tanh((-phi0 - 90.0) / 25.0)\n",
    "\n",
    "    # Spiral as a function of `rho`:\n",
    "    phi = phi0 + b * (rho - rho.min()) ** c\n",
    "\n",
    "    # Convert to Cartesian coordinates\n",
    "    xprime = rho * np.cos(np.deg2rad(phi))\n",
    "    yprime = rho * np.sin(np.deg2rad(phi))\n",
    "\n",
    "    # Find the array elements where the axon crosses the meridian\n",
    "    if is_superior:\n",
    "        # Find elements in inferior retina\n",
    "        idx = np.where(yprime < 0)[0]\n",
    "    else:\n",
    "        # Find elements in superior retina\n",
    "        idx = np.where(yprime > 0)[0]\n",
    "    if idx.size:\n",
    "        # Keep only up to first occurrence\n",
    "        xprime = xprime[:idx[0]]\n",
    "        yprime = yprime[:idx[0]]\n",
    "\n",
    "    # From `loc_od`=[0, 0] to fovea=[0, 0]\n",
    "    xmodel = xprime + loc_od[0]\n",
    "    ymodel = yprime\n",
    "    idx = xprime > -loc_od[0]\n",
    "    ymodel[idx] = yprime[idx] + loc_od[1] * (xmodel[idx] / loc_od[0]) ** 2\n",
    "\n",
    "    return xmodel, ymodel"
   ]
  },
  {
   "cell_type": "code",
   "execution_count": 4,
   "metadata": {
    "collapsed": false,
    "deletable": true,
    "editable": true
   },
   "outputs": [
    {
     "ename": "NameError",
     "evalue": "name 'rho' is not defined",
     "output_type": "error",
     "traceback": [
      "\u001b[1;31m---------------------------------------------------------------------------\u001b[0m",
      "\u001b[1;31mNameError\u001b[0m                                 Traceback (most recent call last)",
      "\u001b[1;32m<ipython-input-4-9c49f41ff28e>\u001b[0m in \u001b[0;36m<module>\u001b[1;34m()\u001b[0m\n\u001b[0;32m      2\u001b[0m \u001b[1;32mfor\u001b[0m \u001b[0msign\u001b[0m \u001b[1;32min\u001b[0m \u001b[1;33m[\u001b[0m\u001b[1;33m-\u001b[0m\u001b[1;36m1.0\u001b[0m\u001b[1;33m,\u001b[0m \u001b[1;36m1.0\u001b[0m\u001b[1;33m]\u001b[0m\u001b[1;33m:\u001b[0m\u001b[1;33m\u001b[0m\u001b[0m\n\u001b[0;32m      3\u001b[0m     \u001b[1;32mfor\u001b[0m \u001b[0mphi0\u001b[0m \u001b[1;32min\u001b[0m \u001b[1;33m[\u001b[0m\u001b[1;36m110.0\u001b[0m\u001b[1;33m,\u001b[0m \u001b[1;36m135.0\u001b[0m\u001b[1;33m,\u001b[0m \u001b[1;36m160.0\u001b[0m\u001b[1;33m]\u001b[0m\u001b[1;33m:\u001b[0m\u001b[1;33m\u001b[0m\u001b[0m\n\u001b[1;32m----> 4\u001b[1;33m         \u001b[0mx\u001b[0m\u001b[1;33m,\u001b[0m \u001b[0my\u001b[0m \u001b[1;33m=\u001b[0m \u001b[0mgrow_axon\u001b[0m\u001b[1;33m(\u001b[0m\u001b[0msign\u001b[0m \u001b[1;33m*\u001b[0m \u001b[0mphi0\u001b[0m\u001b[1;33m,\u001b[0m \u001b[0mn_rho\u001b[0m\u001b[1;33m=\u001b[0m\u001b[1;36m500\u001b[0m\u001b[1;33m,\u001b[0m \u001b[0mrho_range\u001b[0m\u001b[1;33m=\u001b[0m\u001b[1;33m(\u001b[0m\u001b[1;36m0.0\u001b[0m\u001b[1;33m,\u001b[0m \u001b[1;36m45.0\u001b[0m\u001b[1;33m)\u001b[0m\u001b[1;33m)\u001b[0m\u001b[1;33m\u001b[0m\u001b[0m\n\u001b[0m\u001b[0;32m      5\u001b[0m         \u001b[0mnp\u001b[0m\u001b[1;33m.\u001b[0m\u001b[0misclose\u001b[0m\u001b[1;33m(\u001b[0m\u001b[0my\u001b[0m\u001b[1;33m[\u001b[0m\u001b[1;33m-\u001b[0m\u001b[1;36m1\u001b[0m\u001b[1;33m]\u001b[0m\u001b[1;33m,\u001b[0m \u001b[1;36m0.0\u001b[0m\u001b[1;33m)\u001b[0m\u001b[1;33m\u001b[0m\u001b[0m\n",
      "\u001b[1;32m<ipython-input-2-7b1329c7ba60>\u001b[0m in \u001b[0;36mgrow_axon\u001b[1;34m(phi0, n_rho, rho_range, loc_od, beta_sup, beta_inf)\u001b[0m\n\u001b[0;32m     52\u001b[0m \u001b[1;33m\u001b[0m\u001b[0m\n\u001b[0;32m     53\u001b[0m     \u001b[1;31m# Spiral as a function of `rho`:\u001b[0m\u001b[1;33m\u001b[0m\u001b[1;33m\u001b[0m\u001b[0m\n\u001b[1;32m---> 54\u001b[1;33m     \u001b[0mphi\u001b[0m \u001b[1;33m=\u001b[0m \u001b[0mphi0\u001b[0m \u001b[1;33m+\u001b[0m \u001b[0mb\u001b[0m \u001b[1;33m*\u001b[0m \u001b[1;33m(\u001b[0m\u001b[0mrho\u001b[0m \u001b[1;33m-\u001b[0m \u001b[0mrho\u001b[0m\u001b[1;33m.\u001b[0m\u001b[0mmin\u001b[0m\u001b[1;33m(\u001b[0m\u001b[1;33m)\u001b[0m\u001b[1;33m)\u001b[0m \u001b[1;33m**\u001b[0m \u001b[0mc\u001b[0m\u001b[1;33m\u001b[0m\u001b[0m\n\u001b[0m\u001b[0;32m     55\u001b[0m \u001b[1;33m\u001b[0m\u001b[0m\n\u001b[0;32m     56\u001b[0m     \u001b[1;31m# Convert to Cartesian coordinates\u001b[0m\u001b[1;33m\u001b[0m\u001b[1;33m\u001b[0m\u001b[0m\n",
      "\u001b[1;31mNameError\u001b[0m: name 'rho' is not defined"
     ]
    }
   ],
   "source": [
    "import numpy as np\n",
    "for sign in [-1.0, 1.0]:\n",
    "    for phi0 in [110.0, 135.0, 160.0]:\n",
    "        x, y = grow_axon(sign * phi0, n_rho=500, rho_range=(0.0, 45.0))\n",
    "        np.isclose(y[-1], 0.0)"
   ]
  },
  {
   "cell_type": "code",
   "execution_count": null,
   "metadata": {
    "collapsed": false,
    "deletable": true,
    "editable": true
   },
   "outputs": [],
   "source": [
    "for phi0 in np.linspace(-180, 180, 100):\n",
    "    x, y = grow_axon(phi0, n_rho=500, rho_range=(0.0, 45.0))\n",
    "    plt.plot(x, y)"
   ]
  },
  {
   "cell_type": "code",
   "execution_count": null,
   "metadata": {
    "collapsed": false,
    "deletable": true,
    "editable": true
   },
   "outputs": [],
   "source": [
    "from pulse2percept.utils import parfor\n",
    "axons = parfor(grow_axon, np.linspace(-180, 180, 100), engine='joblib')"
   ]
  },
  {
   "cell_type": "code",
   "execution_count": null,
   "metadata": {
    "collapsed": true,
    "deletable": true,
    "editable": true
   },
   "outputs": [],
   "source": []
  }
 ],
 "metadata": {
  "kernelspec": {
   "display_name": "Python 3",
   "language": "python",
   "name": "python3"
  },
  "language_info": {
   "codemirror_mode": {
    "name": "ipython",
    "version": 3
   },
   "file_extension": ".py",
   "mimetype": "text/x-python",
   "name": "python",
   "nbconvert_exporter": "python",
   "pygments_lexer": "ipython3",
   "version": "3.5.2"
  }
 },
 "nbformat": 4,
 "nbformat_minor": 2
}
