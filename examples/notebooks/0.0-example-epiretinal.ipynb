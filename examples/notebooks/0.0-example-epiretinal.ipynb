{
 "cells": [
  {
   "cell_type": "code",
   "execution_count": 1,
   "metadata": {
    "collapsed": false
   },
   "outputs": [],
   "source": [
    "import numpy as np\n",
    "\n",
    "from pulse2percept import electrode2currentmap as e2cm\n",
    "from pulse2percept import effectivecurrent2brightness as ec2b\n",
    "from pulse2percept import oyster\n",
    "\n",
    "import matplotlib.pyplot as plt\n",
    "%matplotlib inline"
   ]
  },
  {
   "cell_type": "code",
   "execution_count": 2,
   "metadata": {
    "collapsed": false
   },
   "outputs": [],
   "source": [
    "implant = e2cm.ElectrodeArray([0], [0], [0], [0], ptype='epiretinal')"
   ]
  },
  {
   "cell_type": "code",
   "execution_count": 21,
   "metadata": {
    "collapsed": false
   },
   "outputs": [],
   "source": [
    "implant = e2cm.ElectrodeArray(0, np.array(0), np.array([0]), [[0]], ptype='epiretinal')"
   ]
  },
  {
   "cell_type": "code",
   "execution_count": 20,
   "metadata": {
    "collapsed": false
   },
   "outputs": [],
   "source": [
    "e = [None]*4\n",
    "e[0] = e2cm.ElectrodeArray([0], 2, [3], 4, ptype='epiretinal')"
   ]
  },
  {
   "cell_type": "code",
   "execution_count": 17,
   "metadata": {
    "collapsed": false
   },
   "outputs": [
    {
     "name": "stdout",
     "output_type": "stream",
     "text": [
      "Help on Electrode in module pulse2percept.electrode2currentmap object:\n",
      "\n",
      "class Electrode(__builtin__.object)\n",
      " |  Represent a circular, disc-like electrode.\n",
      " |  \n",
      " |  Methods defined here:\n",
      " |  \n",
      " |  __init__(self, radius, x, y, h, ptype)\n",
      " |      Initialize an electrode object\n",
      " |      \n",
      " |      Parameters\n",
      " |      ----------\n",
      " |      radius : float\n",
      " |          The radius of the electrode (in microns).\n",
      " |      x : float\n",
      " |          The x coordinate of the electrode (in microns) from the fovea\n",
      " |      y : float\n",
      " |          The y location of the electrode (in microns) from the fovea\n",
      " |      h : float\n",
      " |          The height of the electrode from the retinal surface\n",
      " |            epiretinal array - distance to the ganglion layer\n",
      " |           subretinal array - distance to the bipolar layer\n",
      " |      \n",
      " |      Estimates of layer thickness based on:\n",
      " |      LoDuca et al. Am J. Ophthalmology 2011\n",
      " |      Thickness Mapping of Retinal Layers by Spectral Domain Optical\n",
      " |      Coherence Tomography\n",
      " |      Note that this is for normal retinal, so may overestimate thickness.\n",
      " |      Thickness from their paper (averaged across quadrants):\n",
      " |        0-600 um radius (from fovea)\n",
      " |          Layer 1. (Nerve fiber layer) = 4\n",
      " |          Layer 2. (Ganglion cell bodies + inner plexiform) = 56\n",
      " |          Layer 3. (Bipolar bodies, inner nuclear layer) = 23\n",
      " |        600-1550 um radius\n",
      " |          Layer 1. 34\n",
      " |          Layer 2. 87\n",
      " |          Layer 3. 37.5\n",
      " |        1550-3000 um radius\n",
      " |          Layer 1. 45.5\n",
      " |          Layer 2. 58.2\n",
      " |          Layer 3. 30.75\n",
      " |      \n",
      " |      We place our ganglion axon surface on the inner side of the nerve fiber\n",
      " |      layer\n",
      " |      We place our bipolar surface 1/2 way through the inner nuclear layer\n",
      " |      So for an epiretinal array the bipolar layer is L1+L2+(.5*L3)\n",
      " |  \n",
      " |  current_spread(self, xg, yg, layer, alpha=14000, n=1.69)\n",
      " |      The current spread due to a current pulse through an electrode,\n",
      " |      reflecting the fall-off of the current as a function of distance from\n",
      " |      the electrode center. This can be calculated for any layer in the\n",
      " |      retina.\n",
      " |      Based on equation 2 in Nanduri et al [1].\n",
      " |      \n",
      " |      Parameters\n",
      " |      ----------\n",
      " |      xg and yg defining the retinal grid\n",
      " |      layers describing which layers of the retina are simulated\n",
      " |          'NFL': nerve fiber layer, ganglion axons\n",
      " |          'INL': inner nuclear layer, containing the bipolars\n",
      " |      alpha : float\n",
      " |          a constant to do with the spatial fall-off.\n",
      " |      \n",
      " |      n : float\n",
      " |          a constant to do with the spatial fall-off (Default: 1.69, based\n",
      " |          on Ahuja et al. [2]  An In Vitro Model of a Retinal Prosthesis.\n",
      " |          Ashish K. Ahuja, Matthew R. Behrend, Masako Kuroda, Mark S.\n",
      " |          Humayun, and James D. Weiland (2008). IEEE Trans Biomed Eng 55.\n",
      " |  \n",
      " |  ----------------------------------------------------------------------\n",
      " |  Data descriptors defined here:\n",
      " |  \n",
      " |  __dict__\n",
      " |      dictionary for instance variables (if defined)\n",
      " |  \n",
      " |  __weakref__\n",
      " |      list of weak references to the object (if defined)\n",
      "\n"
     ]
    }
   ],
   "source": [
    "help(implant.electrodes[0])"
   ]
  },
  {
   "cell_type": "code",
   "execution_count": 5,
   "metadata": {
    "collapsed": false
   },
   "outputs": [
    {
     "data": {
      "text/plain": [
       "[2]"
      ]
     },
     "execution_count": 5,
     "metadata": {},
     "output_type": "execute_result"
    }
   ],
   "source": [
    "a = [[2]]\n",
    "reduce(operator.add, a)"
   ]
  },
  {
   "cell_type": "code",
   "execution_count": 6,
   "metadata": {
    "collapsed": false
   },
   "outputs": [],
   "source": [
    "def meow(a, b, c):\n",
    "    a = np.asarray([a]).flatten()\n",
    "    b = np.asarray([b]).flatten()\n",
    "    c = np.asarray([c]).flatten()\n",
    "    \n",
    "    print(\"In:\")\n",
    "    print((a,b,c))\n",
    "\n",
    "    print(\"Out:\")\n",
    "    for x, y, z in zip(a, b, c):\n",
    "        print((x, y, z))"
   ]
  },
  {
   "cell_type": "code",
   "execution_count": 7,
   "metadata": {
    "collapsed": false
   },
   "outputs": [
    {
     "name": "stdout",
     "output_type": "stream",
     "text": [
      "In:\n",
      "(array([1, 2]), array([3, 4]), array([5, 6]))\n",
      "Out:\n",
      "(1, 3, 5)\n",
      "(2, 4, 6)\n"
     ]
    }
   ],
   "source": [
    "meow([1, 2], [3, 4], [5, 6])"
   ]
  },
  {
   "cell_type": "code",
   "execution_count": 8,
   "metadata": {
    "collapsed": false
   },
   "outputs": [
    {
     "name": "stdout",
     "output_type": "stream",
     "text": [
      "In:\n",
      "(array([1]), array([2]), array([3]))\n",
      "Out:\n",
      "(1, 2, 3)\n"
     ]
    }
   ],
   "source": [
    "meow([1], [2], [3])"
   ]
  },
  {
   "cell_type": "code",
   "execution_count": 9,
   "metadata": {
    "collapsed": false
   },
   "outputs": [
    {
     "data": {
      "text/plain": [
       "[([[2]],)]"
      ]
     },
     "execution_count": 9,
     "metadata": {},
     "output_type": "execute_result"
    }
   ],
   "source": [
    "zip([a])"
   ]
  },
  {
   "cell_type": "code",
   "execution_count": null,
   "metadata": {
    "collapsed": true
   },
   "outputs": [],
   "source": []
  }
 ],
 "metadata": {
  "kernelspec": {
   "display_name": "Python 2",
   "language": "python",
   "name": "python2"
  },
  "language_info": {
   "codemirror_mode": {
    "name": "ipython",
    "version": 2
   },
   "file_extension": ".py",
   "mimetype": "text/x-python",
   "name": "python",
   "nbconvert_exporter": "python",
   "pygments_lexer": "ipython2",
   "version": "2.7.11"
  }
 },
 "nbformat": 4,
 "nbformat_minor": 0
}
