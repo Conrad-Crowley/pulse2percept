{
 "cells": [
  {
   "cell_type": "code",
   "execution_count": 1,
   "metadata": {
    "collapsed": true
   },
   "outputs": [],
   "source": [
    "%load_ext Cython"
   ]
  },
  {
   "cell_type": "code",
   "execution_count": 2,
   "metadata": {},
   "outputs": [
    {
     "name": "stderr",
     "output_type": "stream",
     "text": [
      "/home/mbeyeler/anaconda3/lib/python3.5/site-packages/skvideo/__init__.py:356: UserWarning: avconv/avprobe not found in path: \n",
      "  warnings.warn(\"avconv/avprobe not found in path: \" + str(path), UserWarning)\n",
      "2018-03-26 12:56:39,691 [pulse2percept] [INFO] Welcome to pulse2percept\n"
     ]
    }
   ],
   "source": [
    "import numpy as np\n",
    "import pulse2percept as p2p\n",
    "%matplotlib inline\n",
    "import matplotlib.pyplot as plt\n",
    "plt.style.use('ggplot')"
   ]
  },
  {
   "cell_type": "code",
   "execution_count": 3,
   "metadata": {
    "collapsed": true
   },
   "outputs": [],
   "source": [
    "def naivecascade(stim, model, maxR3=99.8873446571, skip_i=0):\n",
    "\n",
    "    tmp_chargeacc = 0\n",
    "    tmp_ca = 0\n",
    "    tmp_cl = 0\n",
    "    tmp_R1 = 0\n",
    "    tmp_R2 = 0\n",
    "    tmp_R3norm = 0\n",
    "    tmp_R4a = [0, 0, 0, 0]\n",
    "\n",
    "    i = 0\n",
    "    # skip_i = 0\n",
    "    newi = 0\n",
    "    count = 0\n",
    "    \n",
    "    t = np.arange(0, stim.duration, stim.tsample)\n",
    "\n",
    "    out_t = []\n",
    "    out_R3 = []\n",
    "    out_R4 = []\n",
    "\n",
    "    dR1min = 0.0005\n",
    "\n",
    "    while i < len(t):\n",
    "        count += 1\n",
    "        while np.abs(stim.data[newi - 1] - tmp_R1) < dR1min / (newi - i + 1) and newi < len(t) - 1 and newi - i < skip_i:\n",
    "            newi += 1\n",
    "        newi += 1\n",
    "        dt = tsample * (newi - i)\n",
    "\n",
    "        i = newi\n",
    "        newi = i\n",
    "        if len(out_t) > 0:\n",
    "            out_t.append(out_t[-1] + dt)\n",
    "        else:\n",
    "            out_t.append(dt)\n",
    "\n",
    "        # R1\n",
    "        tmp_R1 += dt * (-stim.data[i - 1] - tmp_R1) / model.tau1\n",
    "\n",
    "        # leaky integrated charge accumulation\n",
    "        tmp_chargeacc += dt * np.maximum(stim.data[i - 1], 0)\n",
    "        tmp_ca += dt * (tmp_chargeacc - tmp_ca) / model.tau2\n",
    "        tmp_R3 = np.maximum(tmp_R1 - model.eps * tmp_ca, 0)\n",
    "\n",
    "        # nonlinearity\n",
    "        tmp_R3norm = tmp_R3 / maxR3\n",
    "        sc_fac = model.asymptote / (1.0 + np.exp(-(maxR3 - model.shift) / model.slope))\n",
    "        tmp_R3b = tmp_R3norm * sc_fac\n",
    "\n",
    "        # R4: R3 passed through a cascade of 3 leaky integrators\n",
    "        tmp_R4a[0] = tmp_R3b\n",
    "        for j in range(3):\n",
    "            dR4a = dt * (tmp_R4a[j] - tmp_R4a[j + 1]) / model.tau3\n",
    "            tmp_R4a[j + 1] += dR4a\n",
    "\n",
    "        out_R3.append(tmp_R3)\n",
    "        out_R4.append(tmp_R4a[-1])\n",
    "        \n",
    "    return out_t, out_R4"
   ]
  },
  {
   "cell_type": "code",
   "execution_count": 4,
   "metadata": {
    "collapsed": true
   },
   "outputs": [],
   "source": [
    "%%cython\n",
    "\n",
    "import numpy as np\n",
    "cimport numpy as np\n",
    "import scipy.special as ss\n",
    "import cython\n",
    "\n",
    "cdef inline float float_max(float a, float b): return a if a >= b else b\n",
    "DTYPE = np.float\n",
    "ctypedef np.float_t DTYPE_t\n",
    "\n",
    "def cythoncascade(stim, model, maxR3=99.8873446571, skip_i=0):\n",
    "    cdef float tmp_chargeacc = 0\n",
    "    cdef float tmp_ca = 0\n",
    "    cdef float tmp_cl = 0\n",
    "    cdef float tmp_R1 = 0\n",
    "    cdef float tmp_R2 = 0\n",
    "    cdef float tmp_R3norm = 0\n",
    "    cdef float dt = stim.tsample\n",
    "    cdef np.ndarray[DTYPE_t] stimdata = stim.data\n",
    "    \n",
    "    cdef float tmp_R3 = 0\n",
    "    cdef float sc_fac = 0\n",
    "    \n",
    "    tmp_R4a = [0, 0, 0, 0]\n",
    "    cdef np.ndarray[DTYPE_t] out_t = np.arange(0, stim.duration, stim.tsample, dtype=DTYPE)\n",
    "    cdef np.ndarray[DTYPE_t] out_R4 = np.zeros_like(out_t, dtype=DTYPE)\n",
    "    \n",
    "    cdef float tau1 = model.tau1\n",
    "    cdef float tau2 = model.tau2\n",
    "    cdef float tau3 = model.tau3\n",
    "    cdef float asymptote = model.asymptote\n",
    "    cdef float shift = model.shift\n",
    "    cdef float slope = model.slope\n",
    "\n",
    "    for i in range(len(out_t)):\n",
    "        tmp_R1 += dt * (-stimdata[i] - tmp_R1) / tau1\n",
    "\n",
    "        # leaky integrated charge accumulation\n",
    "        tmp_chargeacc += dt * float_max(stimdata[i], 0)\n",
    "        tmp_ca += dt * (tmp_chargeacc - tmp_ca) / tau2\n",
    "        tmp_R3 = float_max(tmp_R1 - model.eps * tmp_ca, 0)\n",
    "\n",
    "        # nonlinearity\n",
    "        sc_fac = asymptote * ss.expit((maxR3 - shift) / slope)\n",
    "        \n",
    "        # R4: R3 passed through a cascade of 3 leaky integrators\n",
    "        tmp_R4a[0] = tmp_R3b = tmp_R3 / maxR3 * sc_fac\n",
    "        for j in range(3):\n",
    "            dR4a = dt * (tmp_R4a[j] - tmp_R4a[j + 1]) / tau3\n",
    "            tmp_R4a[j + 1] += dR4a\n",
    "\n",
    "        out_R4[i] = tmp_R4a[-1]\n",
    "        \n",
    "    return out_t, out_R4"
   ]
  },
  {
   "cell_type": "markdown",
   "metadata": {},
   "source": [
    "### Model output"
   ]
  },
  {
   "cell_type": "code",
   "execution_count": 5,
   "metadata": {
    "collapsed": true
   },
   "outputs": [],
   "source": [
    "tsample = 0.005 / 1000\n",
    "model = p2p.retina.Nanduri2012(tsample=tsample)\n",
    "stim = p2p.stimuli.PulseTrain(tsample, freq=20, amp=150, pulse_dur=0.45 / 1000, dur=0.5)\n",
    "layers = ['GCL']\n",
    "use_jit = True\n",
    "nanduri_out = model.model_cascade(np.array([1, 1]).reshape((2, 1)), stim.data, layers, use_jit)\n",
    "nanduri_t = tsample * np.arange(len(nanduri_out.data))"
   ]
  },
  {
   "cell_type": "code",
   "execution_count": 6,
   "metadata": {
    "collapsed": true
   },
   "outputs": [],
   "source": [
    "naive_t, naive_out = naivecascade(stim, model)\n",
    "cython_t, cython_out = cythoncascade(stim, model)"
   ]
  },
  {
   "cell_type": "code",
   "execution_count": 7,
   "metadata": {},
   "outputs": [
    {
     "data": {
      "text/plain": [
       "<matplotlib.legend.Legend at 0x7f2ef0007390>"
      ]
     },
     "execution_count": 7,
     "metadata": {},
     "output_type": "execute_result"
    },
    {
     "data": {
      "image/png": "[encoded data removed]",
      "text/plain": [
       "<matplotlib.figure.Figure at 0x7f2ec44d20f0>"
      ]
     },
     "metadata": {},
     "output_type": "display_data"
    }
   ],
   "source": [
    "plt.figure(figsize=(10, 5))\n",
    "plt.plot(nanduri_t, nanduri_out.data, linewidth=20, label='convolution')\n",
    "plt.plot(naive_t, naive_out, linewidth=10, label='naivecascade')\n",
    "plt.plot(cython_t, cython_out, linewidth=3, label='cythoncascade')\n",
    "plt.legend(loc='lower right')"
   ]
  },
  {
   "cell_type": "markdown",
   "metadata": {},
   "source": [
    "### Accuracy"
   ]
  },
  {
   "cell_type": "code",
   "execution_count": 8,
   "metadata": {},
   "outputs": [
    {
     "data": {
      "text/plain": [
       "True"
      ]
     },
     "execution_count": 8,
     "metadata": {},
     "output_type": "execute_result"
    }
   ],
   "source": [
    "np.allclose(naive_out, nanduri_out.data, atol=5e-3)"
   ]
  },
  {
   "cell_type": "code",
   "execution_count": 9,
   "metadata": {},
   "outputs": [
    {
     "data": {
      "text/plain": [
       "True"
      ]
     },
     "execution_count": 9,
     "metadata": {},
     "output_type": "execute_result"
    }
   ],
   "source": [
    "np.allclose(cython_out, nanduri_out.data, atol=5e-3)"
   ]
  },
  {
   "cell_type": "markdown",
   "metadata": {},
   "source": [
    "### Speed"
   ]
  },
  {
   "cell_type": "code",
   "execution_count": 10,
   "metadata": {},
   "outputs": [
    {
     "name": "stdout",
     "output_type": "stream",
     "text": [
      "592 ms ± 10.4 ms per loop (mean ± std. dev. of 7 runs, 1 loop each)\n"
     ]
    }
   ],
   "source": [
    "%timeit out = model.model_cascade(np.array([1, 1]).reshape((2, 1)), stim.data, layers, use_jit)"
   ]
  },
  {
   "cell_type": "code",
   "execution_count": 11,
   "metadata": {},
   "outputs": [
    {
     "name": "stdout",
     "output_type": "stream",
     "text": [
      "889 ms ± 15.5 ms per loop (mean ± std. dev. of 7 runs, 1 loop each)\n"
     ]
    }
   ],
   "source": [
    "%timeit out_R4 = naivecascade(stim, model)"
   ]
  },
  {
   "cell_type": "code",
   "execution_count": 12,
   "metadata": {},
   "outputs": [
    {
     "name": "stdout",
     "output_type": "stream",
     "text": [
      "164 ms ± 629 µs per loop (mean ± std. dev. of 7 runs, 10 loops each)\n"
     ]
    }
   ],
   "source": [
    "%timeit out_R4 = cythoncascade(stim, model)"
   ]
  }
 ],
 "metadata": {
  "kernelspec": {
   "display_name": "Python [default]",
   "language": "python",
   "name": "python3"
  },
  "language_info": {
   "codemirror_mode": {
    "name": "ipython",
    "version": 3
   },
   "file_extension": ".py",
   "mimetype": "text/x-python",
   "name": "python",
   "nbconvert_exporter": "python",
   "pygments_lexer": "ipython3",
   "version": "3.5.3"
  }
 },
 "nbformat": 4,
 "nbformat_minor": 2
}
