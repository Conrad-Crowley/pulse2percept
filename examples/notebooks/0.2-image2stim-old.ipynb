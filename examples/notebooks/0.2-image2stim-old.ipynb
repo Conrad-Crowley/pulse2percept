{
 "cells": [
  {
   "cell_type": "code",
   "execution_count": 1,
   "metadata": {
    "collapsed": false,
    "deletable": true,
    "editable": true
   },
   "outputs": [
    {
     "name": "stderr",
     "output_type": "stream",
     "text": [
      "Call to deprecated function __init__.\n",
      "Call to deprecated function mov2npy.\n",
      "Call to deprecated function micron2deg. Use p2p.retina.ret2dva instead.\n",
      "Call to deprecated function deg2micron. Use p2p.retina.dva2ret instead.\n",
      "Call to deprecated function savemoviefiles. Use p2p.files.save_video instead.\n",
      "Call to deprecated function npy2movie. Use p2p.files.save_video instead.\n",
      "Call to deprecated function scale. Use p2p.stimuli.image2pulsetrain instead.\n",
      "Call to deprecated function Movie2Pulsetrain. Use p2p.stimuli.video2pulsetrain instead.\n",
      "Call to deprecated function retinalmovie2electrodtimeseries.\n"
     ]
    }
   ],
   "source": [
    "import numpy as np\n",
    "import pickle\n",
    "import pulse2percept as p2p\n",
    "\n",
    "import skimage.io as sio\n",
    "import skimage.color as sic\n",
    "import skimage.transform as sit\n",
    "\n",
    "import matplotlib.pyplot as plt\n",
    "%matplotlib inline"
   ]
  },
  {
   "cell_type": "code",
   "execution_count": 2,
   "metadata": {
    "collapsed": false,
    "deletable": true,
    "editable": true
   },
   "outputs": [],
   "source": [
    "# Place an Argus I array on the retina\n",
    "argus = p2p.implants.ArgusII(x_center=0, y_center=0, h=50, rot=0*np.pi/180)"
   ]
  },
  {
   "cell_type": "code",
   "execution_count": 13,
   "metadata": {
    "collapsed": false
   },
   "outputs": [
    {
     "name": "stderr",
     "output_type": "stream",
     "text": [
      "2017-03-22 16:50:21,695 [pulse2percept.stimuli] [INFO] Loaded file 'letters/A.jpg'.\n",
      "2017-03-22 16:50:21,700 [pulse2percept.stimuli] [INFO] Image resized to 21x37 pixels.\n"
     ]
    }
   ],
   "source": [
    "stim = p2p.stimuli.image2pulsetrain('letters/A.jpg', argus,\n",
    "                                    coding='frequency', max_contrast=True,\n",
    "                                    rftype='square', rfsize=525.0,\n",
    "                                    invert=True, dur=0.1)"
   ]
  },
  {
   "cell_type": "code",
   "execution_count": null,
   "metadata": {
    "collapsed": true
   },
   "outputs": [],
   "source": []
  },
  {
   "cell_type": "code",
   "execution_count": 3,
   "metadata": {
    "collapsed": true,
    "deletable": true,
    "editable": true
   },
   "outputs": [],
   "source": [
    "overwrite = True\n",
    "imgpath = './letters/'\n",
    "imgfiles = [\n",
    "#     'A.jpg',\n",
    "    'I.jpg'\n",
    "]"
   ]
  },
  {
   "cell_type": "code",
   "execution_count": 4,
   "metadata": {
    "collapsed": false,
    "deletable": true,
    "editable": true
   },
   "outputs": [],
   "source": [
    "sim = p2p.Simulation(argus)\n",
    "\n",
    "# Set parameters of the optic fiber layer (OFL)\n",
    "# In previous versions of the model, this used to be called the `Retina`\n",
    "# object, which created a spatial grid and generated the axtron streak map.\n",
    "sampling = 50       # spatial sampling of the retina (microns)\n",
    "axon_lambda = 2        # constant that determines fall-off with axonal distance\n",
    "sim.set_optic_fiber_layer(sampling=sampling, axon_lambda=axon_lambda,\n",
    "                          x_range=[-2800, 2800], y_range=[-1700, 1700])"
   ]
  },
  {
   "cell_type": "code",
   "execution_count": 5,
   "metadata": {
    "collapsed": false,
    "deletable": true,
    "editable": true
   },
   "outputs": [],
   "source": [
    "e_rf = []\n",
    "for e in argus:\n",
    "    e_rf.append(e.receptive_field(sim.ofl.gridx, sim.ofl.gridy, rftype='square', size=525.0))"
   ]
  },
  {
   "cell_type": "code",
   "execution_count": 6,
   "metadata": {
    "collapsed": false,
    "deletable": true,
    "editable": true
   },
   "outputs": [
    {
     "data": {
      "text/plain": [
       "(0, 255, dtype('uint8'))"
      ]
     },
     "execution_count": 6,
     "metadata": {},
     "output_type": "execute_result"
    }
   ],
   "source": [
    "img = sio.imread(imgpath + imgfiles[0], as_grey=True)\n",
    "img.min(), img.max(), img.dtype"
   ]
  },
  {
   "cell_type": "code",
   "execution_count": 7,
   "metadata": {
    "collapsed": false,
    "deletable": true,
    "editable": true
   },
   "outputs": [
    {
     "data": {
      "text/plain": [
       "(200, 256)"
      ]
     },
     "execution_count": 7,
     "metadata": {},
     "output_type": "execute_result"
    }
   ],
   "source": [
    "img.shape"
   ]
  },
  {
   "cell_type": "code",
   "execution_count": 8,
   "metadata": {
    "collapsed": false,
    "deletable": true,
    "editable": true
   },
   "outputs": [
    {
     "data": {
      "text/plain": [
       "(0.0, 1.0, dtype('float64'), (69, 113))"
      ]
     },
     "execution_count": 8,
     "metadata": {},
     "output_type": "execute_result"
    }
   ],
   "source": [
    "newsmall = sit.resize(img, sim.ofl.gridx.shape)\n",
    "newsmall.min(), newsmall.max(), newsmall.dtype, newsmall.shape"
   ]
  },
  {
   "cell_type": "code",
   "execution_count": 9,
   "metadata": {
    "collapsed": false,
    "deletable": true,
    "editable": true
   },
   "outputs": [
    {
     "data": {
      "text/plain": [
       "<matplotlib.image.AxesImage at 0x7fb17d05c160>"
      ]
     },
     "execution_count": 9,
     "metadata": {},
     "output_type": "execute_result"
    },
    {
     "data": {
      "image/png": "[encoded data removed]",
      "text/plain": [
       "<matplotlib.figure.Figure at 0x7fb17fa2a208>"
      ]
     },
     "metadata": {},
     "output_type": "display_data"
    }
   ],
   "source": [
    "plt.figure(figsize=(14, 8))\n",
    "plt.subplot(121)\n",
    "plt.imshow(img, cmap='gray')\n",
    "plt.subplot(122)\n",
    "plt.imshow(newsmall, cmap='gray')"
   ]
  },
  {
   "cell_type": "code",
   "execution_count": 10,
   "metadata": {
    "collapsed": false,
    "deletable": true,
    "editable": true
   },
   "outputs": [
    {
     "data": {
      "text/plain": [
       "(69, 113, 2)"
      ]
     },
     "execution_count": 10,
     "metadata": {},
     "output_type": "execute_result"
    }
   ],
   "source": [
    "data = newsmall[..., np.newaxis]\n",
    "data = np.concatenate((data, data), axis=-1)\n",
    "data.shape"
   ]
  },
  {
   "cell_type": "code",
   "execution_count": 11,
   "metadata": {
    "collapsed": false,
    "deletable": true,
    "editable": true
   },
   "outputs": [],
   "source": [
    "pt = []\n",
    "for rf in e_rf:\n",
    "    rflum = p2p.stimuli.retinalmovie2electrodtimeseries(rf, data)\n",
    "    ptrain = p2p.stimuli.Movie2Pulsetrain(rflum, tsample=0.005/1000)\n",
    "    pt.append(ptrain)"
   ]
  },
  {
   "cell_type": "code",
   "execution_count": 12,
   "metadata": {
    "collapsed": false,
    "deletable": true,
    "editable": true
   },
   "outputs": [
    {
     "name": "stdout",
     "output_type": "stream",
     "text": [
      "Processing file stim-I-amplitude-sampling50-invert-old.dat\n",
      "Created file in-I-amplitude-sampling50-invert-old.jpg\n",
      "Created file stim-I-amplitude-sampling50-invert-old.dat\n",
      "Processing file stim-I-amplitude-sampling50-old.dat\n",
      "Created file in-I-amplitude-sampling50-old.jpg\n",
      "Created file stim-I-amplitude-sampling50-old.dat\n"
     ]
    },
    {
     "name": "stderr",
     "output_type": "stream",
     "text": [
      "/home/mbeyeler/anaconda3/lib/python3.5/site-packages/skimage/util/dtype.py:110: UserWarning: Possible precision loss when converting from float64 to uint8\n",
      "  \"%s to %s\" % (dtypeobj_in, dtypeobj))\n",
      "/home/mbeyeler/anaconda3/lib/python3.5/site-packages/skimage/util/dtype.py:110: UserWarning: Possible precision loss when converting from float64 to uint8\n",
      "  \"%s to %s\" % (dtypeobj_in, dtypeobj))\n"
     ]
    }
   ],
   "source": [
    "for file in imgfiles:\n",
    "    for invert in [True, False]:\n",
    "        if invert:\n",
    "            stimfile = 'stim-%s-amplitude-sampling%d-invert-old.dat' % (file[:-4], sampling)\n",
    "        else:\n",
    "            stimfile = 'stim-%s-amplitude-sampling%d-old.dat' % (file[:-4], sampling)\n",
    "\n",
    "        try:\n",
    "            if overwrite:\n",
    "                raise FileNotFoundError('Force overwrite')\n",
    "            pickle.load(open(stimfile, 'rb'))\n",
    "            print('File %s already exists, skip' % stimfile)\n",
    "        except:\n",
    "            print('Processing file %s' % stimfile)\n",
    "            img = sio.imread(imgpath + imgfiles[0], as_grey=True)\n",
    "            newsmall = sit.resize(img, sim.ofl.gridx.shape)\n",
    "            \n",
    "            if invert:\n",
    "                newsmall = 1.0 - newsmall\n",
    "\n",
    "            insave = 'in-%s.jpg' % stimfile[5:-4]\n",
    "            sio.imsave(insave, newsmall)\n",
    "            print('Created file %s' % insave)\n",
    "            \n",
    "            data = newsmall[..., np.newaxis]\n",
    "            data = np.concatenate((data, data), axis=-1)\n",
    "\n",
    "            stim = []\n",
    "            for rf in e_rf:\n",
    "                rflum = p2p.stimuli.retinalmovie2electrodtimeseries(rf, data)\n",
    "                ptrain = p2p.stimuli.Movie2Pulsetrain(rflum, tsample=0.005/1000)\n",
    "                pptrain = p2p.utils.TimeSeries(ptrain.tsample, ptrain.data)\n",
    "                stim.append(pptrain)\n",
    "\n",
    "            pickle.dump(stim, open(stimfile, \"wb\"))\n",
    "            print('Created file %s' % stimfile)"
   ]
  },
  {
   "cell_type": "code",
   "execution_count": null,
   "metadata": {
    "collapsed": false,
    "deletable": true,
    "editable": true
   },
   "outputs": [],
   "source": []
  }
 ],
 "metadata": {
  "anaconda-cloud": {},
  "kernelspec": {
   "display_name": "Python [default]",
   "language": "python",
   "name": "python3"
  },
  "language_info": {
   "codemirror_mode": {
    "name": "ipython",
    "version": 3
   },
   "file_extension": ".py",
   "mimetype": "text/x-python",
   "name": "python",
   "nbconvert_exporter": "python",
   "pygments_lexer": "ipython3",
   "version": "3.5.2"
  }
 },
 "nbformat": 4,
 "nbformat_minor": 0
}
