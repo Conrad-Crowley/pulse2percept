{
 "cells": [
  {
   "cell_type": "code",
   "execution_count": 1,
   "metadata": {
    "collapsed": true
   },
   "outputs": [],
   "source": [
    "import sys\n",
    "sys.path.append('..')"
   ]
  },
  {
   "cell_type": "code",
   "execution_count": 2,
   "metadata": {
    "collapsed": false
   },
   "outputs": [],
   "source": [
    "import numpy as np\n",
    "import electrode2currentmap as e2cm\n",
    "import effectivecurrent2brightness as ec2b\n",
    "import utils\n",
    "from utils import TimeSeries\n",
    "from scipy.signal import fftconvolve\n",
    "import matplotlib.pyplot as plt\n",
    "%matplotlib inline"
   ]
  },
  {
   "cell_type": "code",
   "execution_count": 3,
   "metadata": {
    "collapsed": false
   },
   "outputs": [],
   "source": [
    "# Create a Retina object that can hold the entire Argus I array (4x4 checkerboard, 880um center-to-center)\n",
    "# width: 4 x 880um = 3520um, but add radii: 3520um + 130um + 260um = 3910 um, but add padding for current spread -> 5000um\n",
    "r_sampling = 50  # spatial sampling of retina\n",
    "r = e2cm.Retina(axon_map='../retina_argus_s' + str(r_sampling) + '.npz', \n",
    "                sampling=r_sampling, xlo=-2500, xhi=2500, ylo=-2500, yhi=2500)"
   ]
  },
  {
   "cell_type": "code",
   "execution_count": 4,
   "metadata": {
    "collapsed": false
   },
   "outputs": [],
   "source": [
    "# Create Argus I electrode array \n",
    "# 4x4 checkerboard, 880um center-to-center, (almost) alternating electrode sizes\n",
    "\n",
    "e_spacing = 880  # um\n",
    "x_coord = np.arange(0, 4) * e_spacing - 1.5 * e_spacing\n",
    "x_coord, y_coord = np.meshgrid(x_coord, x_coord, sparse=False)\n",
    "\n",
    "# spatial arrangement of Argus I creates checkerboard with alternating electrode sizes\n",
    "#   .  o  .  o\n",
    "#   o  .  o  .\n",
    "#   .  o  .  o\n",
    "#   o  .  o  .\n",
    "r_arr = np.array([260, 520, 260, 520])\n",
    "r_arr = np.concatenate((r_arr, r_arr[::-1], r_arr, r_arr[::-1]), axis=0)\n",
    "h_arr = np.ones(16)*0\n",
    "\n",
    "e_all = e2cm.ElectrodeArray(r_arr.tolist(), x_coord.flatten().tolist(), y_coord.flatten().tolist(), h_arr.tolist())"
   ]
  },
  {
   "cell_type": "code",
   "execution_count": 5,
   "metadata": {
    "collapsed": false
   },
   "outputs": [
    {
     "data": {
      "text/plain": [
       "<matplotlib.colorbar.Colorbar at 0x7fd48e2c89b0>"
      ]
     },
     "execution_count": 5,
     "metadata": {},
     "output_type": "execute_result"
    },
    {
     "data": {
      "image/png": "[encoded data removed]",
      "text/plain": [
       "<matplotlib.figure.Figure at 0x7fd498594da0>"
      ]
     },
     "metadata": {},
     "output_type": "display_data"
    }
   ],
   "source": [
    "# show the cumulative current spread of the Argus I electrode arrangement\n",
    "plt.matshow(e_all.current_spread(r.gridx, r.gridy), vmin=0, cmap='hot')\n",
    "\n",
    "# also plot the center points of all the electrodes\n",
    "plt.plot(x_coord/r_sampling+r.gridx.shape[0]/2, y_coord/r_sampling+r.gridx.shape[0]/2, '.')\n",
    "\n",
    "plt.axis([0, r.gridx.shape[0], 0, r.gridx.shape[1]])\n",
    "plt.colorbar()"
   ]
  },
  {
   "cell_type": "code",
   "execution_count": 6,
   "metadata": {
    "collapsed": false
   },
   "outputs": [],
   "source": [
    "e_rf = []\n",
    "for e in e_all.electrodes:\n",
    "    e_rf.append(e2cm.receptive_field(e, r.gridx, r.gridy, e_spacing))"
   ]
  },
  {
   "cell_type": "code",
   "execution_count": 7,
   "metadata": {
    "collapsed": false
   },
   "outputs": [],
   "source": [
    "# We derive the effective current stimulation (ecs; passed through the effect of the retinal layout, axons, etc.) \n",
    "# in addition to the current (cs):\n",
    "ecs, cs  = r.electrode_ecs(e_all)"
   ]
  },
  {
   "cell_type": "code",
   "execution_count": 8,
   "metadata": {
    "collapsed": true
   },
   "outputs": [],
   "source": [
    "# create some pulse train\n",
    "freq=20\n",
    "dur=0.5\n",
    "pulse_dur=.075/1000.\n",
    "interphase_dur=.075/1000.\n",
    "tsample=.005/1000.\n",
    "current_amplitude=20,\n",
    "\n",
    "p2pt = e2cm.Psycho2Pulsetrain(freq=freq, \n",
    "                              dur=dur, \n",
    "                              pulse_dur=pulse_dur, \n",
    "                              interphase_dur=interphase_dur, \n",
    "                              delay=0, \n",
    "                              tsample=tsample, \n",
    "                              current_amplitude=current_amplitude,\n",
    "                              pulsetype='cathodicfirst',\n",
    "                              stimtype='pulsetrain')\n",
    "\n",
    "fps = 30\n",
    "rs = 1/(fps*p2pt.tsample)"
   ]
  },
  {
   "cell_type": "code",
   "execution_count": 9,
   "metadata": {
    "collapsed": false
   },
   "outputs": [],
   "source": [
    "# The temporal model contains the cascade of operations that leads from pulse to percept:\n",
    "tm = ec2b.TemporalModel(tsample=tsample)"
   ]
  },
  {
   "cell_type": "code",
   "execution_count": 10,
   "metadata": {
    "collapsed": false
   },
   "outputs": [],
   "source": [
    "# csvfile = '../../data/Horsager_2011/DataSummary_Horsager2011.csv'\n",
    "# data = np.genfromtxt(csvfile, delimiter=',', dtype=None)"
   ]
  },
  {
   "cell_type": "code",
   "execution_count": 11,
   "metadata": {
    "collapsed": false
   },
   "outputs": [
    {
     "name": "stdout",
     "output_type": "stream",
     "text": [
      " "
     ]
    }
   ],
   "source": [
    "# pulse2percept(temporal_model, ecs, retina, stimuli, rs, dojit=True, n_jobs=-1, tol=.05)\n",
    "\n",
    "%prun mov = ec2b.pulse2percept(tm, ecs, r, [p2pt], int(rs), n_jobs=8, dojit=False, tol=0.01)"
   ]
  },
  {
   "cell_type": "code",
   "execution_count": 12,
   "metadata": {
    "collapsed": false
   },
   "outputs": [
    {
     "data": {
      "text/plain": [
       "<matplotlib.colorbar.Colorbar at 0x7fd49175d7b8>"
      ]
     },
     "execution_count": 12,
     "metadata": {},
     "output_type": "execute_result"
    },
    {
     "data": {
      "image/png": "[encoded data removed]",
      "text/plain": [
       "<matplotlib.figure.Figure at 0x7fd49175d630>"
      ]
     },
     "metadata": {},
     "output_type": "display_data"
    }
   ],
   "source": [
    "plt.matshow(mov.data[:, :, 10], cmap='gray', vmin=0)\n",
    "plt.colorbar()"
   ]
  }
 ],
 "metadata": {
  "anaconda-cloud": {},
  "kernelspec": {
   "display_name": "Python [Root]",
   "language": "python",
   "name": "Python [Root]"
  },
  "language_info": {
   "codemirror_mode": {
    "name": "ipython",
    "version": 3
   },
   "file_extension": ".py",
   "mimetype": "text/x-python",
   "name": "python",
   "nbconvert_exporter": "python",
   "pygments_lexer": "ipython3",
   "version": "3.5.2"
  }
 },
 "nbformat": 4,
 "nbformat_minor": 0
}
