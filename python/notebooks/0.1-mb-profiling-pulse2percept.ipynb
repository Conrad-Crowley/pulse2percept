{
 "cells": [
  {
   "cell_type": "code",
   "execution_count": 1,
   "metadata": {
    "collapsed": true
   },
   "outputs": [],
   "source": [
    "import sys\n",
    "sys.path.append('..')"
   ]
  },
  {
   "cell_type": "code",
   "execution_count": 2,
   "metadata": {
    "collapsed": false
   },
   "outputs": [],
   "source": [
    "import numpy as np\n",
    "from scipy.signal import fftconvolve\n",
    "from scipy.special import expit\n",
    "\n",
    "import electrode2currentmap as e2cm\n",
    "import effectivecurrent2brightness as ec2b\n",
    "import utils\n",
    "\n",
    "import matplotlib.pyplot as plt\n",
    "%matplotlib inline"
   ]
  },
  {
   "cell_type": "code",
   "execution_count": 3,
   "metadata": {
    "collapsed": false
   },
   "outputs": [],
   "source": [
    "# use original TimeSeries implementation\n",
    "class TimeSeriesSlow(utils.TimeSeries):\n",
    "    def __init__(self, tsample, data, sleep_ms=0):\n",
    "        \"\"\"\n",
    "        Represent a time-series.\n",
    "        \n",
    "        Reference (slow) implementation, obtained 9/7/2016 from pulse2percept master branch.\n",
    "        \"\"\"\n",
    "        self.data = data\n",
    "        self.tsample = tsample\n",
    "        self.duration = self.data.shape[-1] * tsample\n",
    "        self.shape = data.shape\n",
    "        self.sampling_rate = 1 / tsample\n",
    "        \n",
    "        # The following is unnecessary, because it is unused.\n",
    "        # Even worse, it's also a huge memory hog and makes the constructor slow.\n",
    "        # Because a new TimeSeries object is created at every stage of the model cascade\n",
    "        # for every cascade, its impact on speed/memory usage is significant...\n",
    "        # Running simulations with > 0.5s stimulus duration failed on my machine with 32GB\n",
    "        # RAM, as memory usage would continue to increase until no more memory could be\n",
    "        # allocated.\n",
    "        # Removing the next line gets rid of this issue.\n",
    "        self.time = np.linspace(tsample, self.duration, data.shape[-1])\n",
    "        \n",
    "        # We want to see the impact on speed, but delete the variable right away so we\n",
    "        # don't run out of memory.\n",
    "        del self.time"
   ]
  },
  {
   "cell_type": "code",
   "execution_count": 4,
   "metadata": {
    "collapsed": true
   },
   "outputs": [],
   "source": [
    "class TemporalModelSlow(object):\n",
    "    def __init__(self, tau1=.42/1000, tau2=45.25/1000,\n",
    "                 tau3=26.25/1000, e=8.73, beta=.6, asymptote=14, slope=3,\n",
    "                 shift=16):\n",
    "        \"\"\"\n",
    "        A model of temporal integration from retina pixels.\n",
    "        \n",
    "        Reference (slow) implementation, obtained 9/7/2016 from pulse2percept master branch.\n",
    "        Suggestions for how to speed up the code can be found in the comments below.\n",
    "        \"\"\"\n",
    "        self.tau1 = tau1\n",
    "        self.tau2 = tau2\n",
    "        self.tau3 = tau3\n",
    "        self.e = e\n",
    "        self.beta = beta\n",
    "        self.asymptote = asymptote\n",
    "        self.slope = slope\n",
    "        self.shift = shift\n",
    "\n",
    "    def fast_response(self, stimulus, dojit=True):\n",
    "        # slow: pre-calculate gamma once\n",
    "        t = np.arange(0, 20 * self.tau1, stimulus.tsample)\n",
    "        g = e2cm.gamma(1, self.tau1, t)\n",
    "        \n",
    "        # Don't calculate the 'full' discrete convolution, use mode 'same'\n",
    "        # instead\n",
    "        R1 = stimulus.tsample * utils.sparseconv(g, stimulus.data, dojit=dojit)\n",
    "\n",
    "        # Converting to TimeSeries is slow, mainly due to np.linspace call in\n",
    "        # the constructor. This is unnecessary overhead that happens at every\n",
    "        # electrode / every stage of the cascade.\n",
    "        return TimeSeriesSlow(stimulus.tsample, R1)\n",
    "\n",
    "    def charge_accumulation(self, fast_response, stimulus):\n",
    "        # same here, pre-calc gamma once\n",
    "        t = np.arange(0, 8 * self.tau2, fast_response.tsample)\n",
    "        g = e2cm.gamma(1, self.tau2, t)\n",
    "\n",
    "        # calculated accumulated charge\n",
    "        # np.maximum(0,x) seems to be faster than np.where\n",
    "        rect_amp = np.where(stimulus.data > 0, stimulus.data, 0)  # rectify\n",
    "        ca = stimulus.tsample * np.cumsum(rect_amp.astype(float), axis=-1)\n",
    "\n",
    "        # Run fftconvolve in mode 'same'.\n",
    "        # First argument is typically the data, second the kernel.\n",
    "        chargeaccumulated = (self.e * stimulus.tsample *\n",
    "                             fftconvolve(g, ca))\n",
    "\n",
    "        # Don't do the zero padding yourself, run fftconvolve in mode 'same'\n",
    "        # so it returns the correct dimensions.\n",
    "        zero_pad = np.zeros(fast_response.shape[:-1] +\n",
    "                            (chargeaccumulated.shape[-1] -\n",
    "                             fast_response.shape[-1],))\n",
    "        fast_response = TimeSeriesSlow(fast_response.tsample,\n",
    "                                   np.concatenate([fast_response.data,\n",
    "                                                   zero_pad], -1))\n",
    "\n",
    "        R2 = fast_response.data - chargeaccumulated\n",
    "        \n",
    "        # np.maximum(0,x) seems to be faster than np.where\n",
    "        R2 = np.where(R2 > 0, R2, 0)  # rectify again\n",
    "        \n",
    "        # converting to TimeSeries is slow\n",
    "        return TimeSeriesSlow(fast_response.tsample, R2)\n",
    "\n",
    "    def stationary_nonlinearity(self, fast_response_ca):\n",
    "        # now we put in the stationary nonlinearity of Devyani's:\n",
    "        R2norm = fast_response_ca.data / fast_response_ca.data.max()\n",
    "        \n",
    "        # Parentheses are misplaced w.r.t. Eq.3 in Nanduri et al. (2012).\n",
    "        # Also, use scipy.signal.expit for a fast logistic function.\n",
    "        scale_factor = (self.asymptote / (1 + np.exp(-(fast_response_ca.data /\n",
    "                        self.slope) +\n",
    "                        self.shift)))\n",
    "        R3 = R2norm * scale_factor  # scaling factor varies with original\n",
    "        \n",
    "        # converting to TimeSeries is slow\n",
    "        return TimeSeriesSlow(fast_response_ca.tsample, R3)\n",
    "\n",
    "    def slow_response(self, fast_response_ca_snl):\n",
    "        # same here, pre-calc gamma once\n",
    "        t = np.arange(0, self.tau3 * 8, fast_response_ca_snl.tsample)\n",
    "        g = e2cm.gamma(3, self.tau3, t)\n",
    "        \n",
    "        # Run fftconvolve in mode 'same'.\n",
    "        # First argument is typically the data, second the kernel.\n",
    "        c = fftconvolve(g, fast_response_ca_snl.data)\n",
    "        \n",
    "        # converting to TimeSeries is slow\n",
    "        return TimeSeriesSlow(fast_response_ca_snl.tsample,\n",
    "                          fast_response_ca_snl.tsample * c)\n",
    "\n",
    "    def model_cascade(self, ecm, dojit):\n",
    "        fr = self.fast_response(ecm, dojit=dojit)\n",
    "        ca = self.charge_accumulation(fr, ecm)\n",
    "        sn = self.stationary_nonlinearity(ca)\n",
    "        return self.slow_response(sn)"
   ]
  },
  {
   "cell_type": "code",
   "execution_count": 5,
   "metadata": {
    "collapsed": true
   },
   "outputs": [],
   "source": [
    "def speedup(data, data_ref):\n",
    "    \"\"\"Calculate a speedup ratio.\n",
    "    \n",
    "    Returns a speedup ratio for a list of execution times `data` compared to\n",
    "    reference data `data_ref`.\n",
    "    \"\"\"\n",
    "    return np.mean(data_ref / data)\n",
    "\n",
    "def percent_faster(data, data_ref):\n",
    "    \"\"\"Calculates % speed increase.\n",
    "    \n",
    "    Returns how much faster a list of execution times `data` is compared to\n",
    "    reference data `data_ref` (percent).\n",
    "    \n",
    "    Aka: \"`data` is on average X % faster than `data_ref`.\"\n",
    "    \"\"\"\n",
    "    return np.mean((data_ref - data) / data_ref) * 100"
   ]
  },
  {
   "cell_type": "code",
   "execution_count": 6,
   "metadata": {
    "collapsed": true
   },
   "outputs": [],
   "source": [
    "# Create a Retina object that can hold the entire Argus I array (4x4 checkerboard, 880um center-to-center)\n",
    "# width: 4 x 880um = 3520um, but add radii: 3520um + 130um + 260um = 3910 um, then add padding for current spread -> 5000um\n",
    "r_sampling = 50  # spatial sampling of retina\n",
    "r = e2cm.Retina(axon_map='../retina_argus_s' + str(r_sampling) + '.npz', \n",
    "                sampling=r_sampling, xlo=-2500, xhi=2500, ylo=-2500, yhi=2500)"
   ]
  },
  {
   "cell_type": "code",
   "execution_count": 7,
   "metadata": {
    "collapsed": true
   },
   "outputs": [],
   "source": [
    "# Create Argus I electrode array \n",
    "# 4x4 checkerboard, 880um center-to-center, (almost) alternating electrode sizes\n",
    "\n",
    "e_spacing = 880  # um\n",
    "x_coord = np.arange(0, 4) * e_spacing - 1.5 * e_spacing\n",
    "x_coord, y_coord = np.meshgrid(x_coord, x_coord, sparse=False)\n",
    "\n",
    "# spatial arrangement of Argus I creates checkerboard with alternating electrode sizes\n",
    "#   .  o  .  o\n",
    "#   o  .  o  .\n",
    "#   .  o  .  o\n",
    "#   o  .  o  .\n",
    "r_arr = np.array([260, 520, 260, 520])\n",
    "r_arr = np.concatenate((r_arr, r_arr[::-1], r_arr, r_arr[::-1]), axis=0)\n",
    "h_arr = np.ones(16)*0\n",
    "\n",
    "e_all = e2cm.ElectrodeArray(r_arr.tolist(), x_coord.flatten().tolist(), y_coord.flatten().tolist(), h_arr.tolist())"
   ]
  },
  {
   "cell_type": "code",
   "execution_count": 8,
   "metadata": {
    "collapsed": true
   },
   "outputs": [],
   "source": [
    "# We derive the effective current stimulation (ecs; passed through the effect of the retinal layout, axons, etc.) \n",
    "# in addition to the current (cs):\n",
    "ecs, cs  = r.electrode_ecs(e_all)"
   ]
  },
  {
   "cell_type": "code",
   "execution_count": 9,
   "metadata": {
    "collapsed": false
   },
   "outputs": [],
   "source": [
    "# for now, keep most params constant except for frequency and overall stimulus duration\n",
    "tsample = .005/1000.\n",
    "freq = 20\n",
    "num_pts = 10\n",
    "duration = np.linspace(0.1, 1, num_pts)\n",
    "\n",
    "dojit = True\n",
    "\n",
    "# resampling output\n",
    "fps = 30\n",
    "rs = int(1/(fps*tsample))"
   ]
  },
  {
   "cell_type": "code",
   "execution_count": null,
   "metadata": {
    "collapsed": false
   },
   "outputs": [],
   "source": [
    "# The temporal model contains the cascade of operations that leads from pulse to percept.\n",
    "# Here we are comparing two different versions:\n",
    "\n",
    "# Reference implementation hard-copied from Sep 2016 master branch:\n",
    "tm_slow = TemporalModelSlow()\n",
    "\n",
    "# Sped up implementation / current standing:\n",
    "tm = ec2b.TemporalModel(tsample=tsample)"
   ]
  },
  {
   "cell_type": "code",
   "execution_count": null,
   "metadata": {
    "collapsed": false
   },
   "outputs": [
    {
     "name": "stdout",
     "output_type": "stream",
     "text": [
      "dur: 0.10\n",
      "  Done with t_old: 55.565844\n",
      "  Done with t_new: 25.587700\n",
      "dur: 0.20\n",
      "  Done with t_old: 65.592477\n",
      "  Done with t_new: 34.206743\n",
      "dur: 0.30\n",
      "  Done with t_old: 79.545420\n",
      "  Done with t_new: 44.090189\n",
      "dur: 0.40\n",
      "  Done with t_old: 91.081131\n",
      "  Done with t_new: 55.221837\n",
      "dur: 0.50\n",
      "  Done with t_old: 105.524750\n",
      "  Done with t_new: 66.014808\n",
      "dur: 0.60\n",
      "  Done with t_old: 127.620309\n",
      "  Done with t_new: 79.429909\n",
      "dur: 0.70\n",
      "  Done with t_old: 142.664618\n",
      "  Done with t_new: 93.745390\n",
      "dur: 0.80\n",
      "  Done with t_old: 160.542389\n",
      "  Done with t_new: 107.923835\n",
      "dur: 0.90\n",
      "  Done with t_old: 184.431744\n",
      "  Done with t_new: 128.135295\n",
      "dur: 1.00\n",
      "  Done with t_old: 208.728684\n",
      "  Done with t_new: 145.565146\n"
     ]
    }
   ],
   "source": [
    "# Warning: This might take a while... but see progress report prints\n",
    "\n",
    "t_old = []  # list of execution times for the reference (slow) implementation\n",
    "t_new = []  # list of execution times for the current implementation\n",
    "\n",
    "for dur in duration:\n",
    "    print('dur: %.2f' % dur)\n",
    "    p2pt = e2cm.Psycho2Pulsetrain(freq, dur, pulse_dur=.075/1000, interphase_dur=.075/1000,\n",
    "                                  tsample=tsample, current_amplitude=20,\n",
    "                                  pulsetype='cathodicfirst')\n",
    "\n",
    "    t0 = %timeit -n1 -r3 -oq ec2b.pulse2percept(tm_slow, ecs, r, [p2pt], rs, n_jobs=8, dojit=dojit, tol=0.01)\n",
    "    print('  Done with t_old: %f' % t0.best)\n",
    "    t_old.append(t0.best)\n",
    "\n",
    "    t1 = %timeit -n1 -r3 -oq ec2b.pulse2percept(tm, ecs, r, [p2pt], rs, n_jobs=8, dojit=dojit, tol=0.01)\n",
    "    print('  Done with t_new: %f' % t1.best)\n",
    "    t_new.append(t1.best)\n",
    "    \n",
    "t_old = np.array(t_old)\n",
    "t_new = np.array(t_new)"
   ]
  },
  {
   "cell_type": "code",
   "execution_count": null,
   "metadata": {
    "collapsed": false
   },
   "outputs": [
    {
     "name": "stdout",
     "output_type": "stream",
     "text": [
      "avg speedup 1.663x\t\tavg 38.9% faster\n",
      "avg speedup 1.663x\t\tavg 38.9% faster\n"
     ]
    },
    {
     "data": {
      "image/png": "[encoded data removed]",
      "text/plain": [
       "<matplotlib.figure.Figure at 0x7fec68b4f630>"
      ]
     },
     "metadata": {},
     "output_type": "display_data"
    }
   ],
   "source": [
    "plt.plot(duration, t_old, '-s', linewidth=2, label='reference')\n",
    "plt.plot(duration, t_new, '->', linewidth=2, label='current')\n",
    "plt.xlabel('duration (s)')\n",
    "plt.ylabel('execution time (s)')\n",
    "plt.legend(loc='upper left')\n",
    "plt.title('pulse2percept performance')\n",
    "\n",
    "print('avg speedup %.3fx\\t\\tavg %.1f%% faster' % (speedup(t_new, t_old), \n",
    "                                                  percent_faster(t_new, t_old)))\n",
    "print('avg speedup %.3fx\\t\\tavg %.1f%% faster' % (speedup(t_new, t_old),\n",
    "                                                  percent_faster(t_new, t_old)))"
   ]
  },
  {
   "cell_type": "code",
   "execution_count": null,
   "metadata": {
    "collapsed": false
   },
   "outputs": [
    {
     "data": {
      "text/plain": [
       "{'peak': 1512032, 'rss': 363192}"
      ]
     },
     "execution_count": 13,
     "metadata": {},
     "output_type": "execute_result"
    }
   ],
   "source": [
    "# memory usage in kb\n",
    "utils.memory_usage()"
   ]
  },
  {
   "cell_type": "code",
   "execution_count": null,
   "metadata": {
    "collapsed": true
   },
   "outputs": [],
   "source": []
  }
 ],
 "metadata": {
  "anaconda-cloud": {},
  "kernelspec": {
   "display_name": "Python [Root]",
   "language": "python",
   "name": "Python [Root]"
  },
  "language_info": {
   "codemirror_mode": {
    "name": "ipython",
    "version": 3
   },
   "file_extension": ".py",
   "mimetype": "text/x-python",
   "name": "python",
   "nbconvert_exporter": "python",
   "pygments_lexer": "ipython3",
   "version": "3.5.2"
  }
 },
 "nbformat": 4,
 "nbformat_minor": 0
}
