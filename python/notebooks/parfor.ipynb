{
 "cells": [
  {
   "cell_type": "code",
   "execution_count": 1,
   "metadata": {
    "collapsed": true
   },
   "outputs": [],
   "source": [
    "import numpy as np\n",
    "from joblib import Parallel, delayed\n",
    "from itertools import product\n",
    "from time import sleep"
   ]
  },
  {
   "cell_type": "code",
   "execution_count": 2,
   "metadata": {
    "collapsed": false
   },
   "outputs": [],
   "source": [
    "def power_it(arr, idx, n=2):\n",
    "    # We add a sleep in here to simulate heavy work that \n",
    "    # needs the parallelizing:\n",
    "    sleep(0.1)\n",
    "    return arr[idx] ** n"
   ]
  },
  {
   "cell_type": "code",
   "execution_count": 3,
   "metadata": {
    "collapsed": false
   },
   "outputs": [],
   "source": [
    "def parfor(arr, func, n_jobs=1, *args, **kwargs):\n",
    "    \"\"\" \n",
    "    Parallel for loop for numpy arrays\n",
    "    \n",
    "    Parameters\n",
    "    ----------\n",
    "    arr : ndarray\n",
    "        Input array to operate on\n",
    "    \n",
    "    func : callable\n",
    "        The function to apply to each item in the array. \n",
    "        Must have the form: func(arr, idx, *args, *kwargs)\n",
    "        where arr is an ndarray and idx is an index into \n",
    "        that array (a tuple)\n",
    "        \n",
    "    n_jobs : integer, optional\n",
    "        The number of jobs to perform in parallel\n",
    "        Default: 1\n",
    "    \n",
    "    args : list, optional\n",
    "        Positional arguments to `func`\n",
    "\n",
    "    kwargs : list, optional\n",
    "        Keyword arguments to `func`\n",
    "        \n",
    "    Returns\n",
    "    -------\n",
    "    ndarray of identical shape to `arr`\n",
    "\n",
    "    Examples\n",
    "    --------\n",
    "    >>> def power_it(arr, idx, n=2):\n",
    "    ...     return arr[idx] ** n\n",
    "    >>> my_array = np.arange(100).reshape(10, 10)\n",
    "    >>> parfor(my_array, power_it, n=3, n_jobs=2) \n",
    "    \"\"\"\n",
    "    idx = product(*(range(s) for s in arr.shape))\n",
    "    results = Parallel(n_jobs=n_jobs)(delayed(func)(arr, i, *args, **kwargs) for i in idx)\n",
    "    return np.array(results).reshape(arr.shape)"
   ]
  },
  {
   "cell_type": "code",
   "execution_count": 4,
   "metadata": {
    "collapsed": false
   },
   "outputs": [],
   "source": [
    "my_array = np.arange(100).reshape(10, 10)"
   ]
  },
  {
   "cell_type": "code",
   "execution_count": 5,
   "metadata": {
    "collapsed": false
   },
   "outputs": [],
   "source": [
    "aa = parfor(my_array, power_it)"
   ]
  },
  {
   "cell_type": "code",
   "execution_count": 6,
   "metadata": {
    "collapsed": false
   },
   "outputs": [
    {
     "data": {
      "text/plain": [
       "7744"
      ]
     },
     "execution_count": 6,
     "metadata": {},
     "output_type": "execute_result"
    }
   ],
   "source": [
    "aa[8, 8]"
   ]
  },
  {
   "cell_type": "code",
   "execution_count": 7,
   "metadata": {
    "collapsed": false
   },
   "outputs": [],
   "source": [
    "i, j = np.random.randint(0, 9, 2)\n",
    "assert aa[i, j] == power_it(my_array, (i, j)) "
   ]
  },
  {
   "cell_type": "code",
   "execution_count": 15,
   "metadata": {
    "collapsed": false
   },
   "outputs": [
    {
     "name": "stdout",
     "output_type": "stream",
     "text": [
      "10 loops, best of 3: 101 ms per loop\n"
     ]
    },
    {
     "data": {
      "text/plain": [
       "10.0"
      ]
     },
     "execution_count": 15,
     "metadata": {},
     "output_type": "execute_result"
    }
   ],
   "source": [
    "%timeit power_it(my_array, (i, j))\n",
    "0.1 * 100"
   ]
  },
  {
   "cell_type": "code",
   "execution_count": 8,
   "metadata": {
    "collapsed": false
   },
   "outputs": [
    {
     "name": "stdout",
     "output_type": "stream",
     "text": [
      "1 loops, best of 3: 10.2 s per loop\n"
     ]
    }
   ],
   "source": [
    "%timeit parfor(my_array, power_it, n=3, n_jobs=1)"
   ]
  },
  {
   "cell_type": "code",
   "execution_count": 9,
   "metadata": {
    "collapsed": false
   },
   "outputs": [
    {
     "name": "stdout",
     "output_type": "stream",
     "text": [
      "1 loops, best of 3: 5.13 s per loop\n"
     ]
    }
   ],
   "source": [
    "%timeit parfor(my_array, power_it, n=3, n_jobs=2)"
   ]
  },
  {
   "cell_type": "code",
   "execution_count": 10,
   "metadata": {
    "collapsed": false
   },
   "outputs": [
    {
     "name": "stdout",
     "output_type": "stream",
     "text": [
      "1 loops, best of 3: 1.47 s per loop\n"
     ]
    }
   ],
   "source": [
    "%timeit parfor(my_array, power_it, n=3, n_jobs=8)"
   ]
  },
  {
   "cell_type": "code",
   "execution_count": 11,
   "metadata": {
    "collapsed": true
   },
   "outputs": [],
   "source": [
    "import multiprocessing"
   ]
  },
  {
   "cell_type": "code",
   "execution_count": 12,
   "metadata": {
    "collapsed": false
   },
   "outputs": [
    {
     "data": {
      "text/plain": [
       "4"
      ]
     },
     "execution_count": 12,
     "metadata": {},
     "output_type": "execute_result"
    }
   ],
   "source": [
    "multiprocessing.cpu_count()"
   ]
  },
  {
   "cell_type": "code",
   "execution_count": null,
   "metadata": {
    "collapsed": true
   },
   "outputs": [],
   "source": []
  }
 ],
 "metadata": {
  "kernelspec": {
   "display_name": "Python 3",
   "language": "python",
   "name": "python3"
  },
  "language_info": {
   "codemirror_mode": {
    "name": "ipython",
    "version": 3
   },
   "file_extension": ".py",
   "mimetype": "text/x-python",
   "name": "python",
   "nbconvert_exporter": "python",
   "pygments_lexer": "ipython3",
   "version": "3.5.1"
  }
 },
 "nbformat": 4,
 "nbformat_minor": 0
}
