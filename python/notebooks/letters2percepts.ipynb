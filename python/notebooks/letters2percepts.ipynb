{
 "cells": [
  {
   "cell_type": "code",
   "execution_count": 1,
   "metadata": {
    "collapsed": true
   },
   "outputs": [],
   "source": [
    "## This allows us to import from the folder above this one:\n",
    "import sys\n",
    "sys.path.append('..')"
   ]
  },
  {
   "cell_type": "code",
   "execution_count": 2,
   "metadata": {
    "collapsed": true
   },
   "outputs": [],
   "source": [
    "import numpy as np\n",
    "import electrode2currentmap as e2cm\n",
    "import effectivecurrent2brightness as ec2b\n",
    "from scipy import interpolate\n",
    "from utils import TimeSeries\n",
    "import matplotlib.pyplot as plt\n",
    "from itertools import product\n",
    "import utils\n",
    "import time\n",
    "import string\n",
    "import scipy\n",
    "import matplotlib.pyplot as plt\n",
    "%matplotlib inline\n"
   ]
  },
  {
   "cell_type": "code",
   "execution_count": 3,
   "metadata": {
    "collapsed": true
   },
   "outputs": [],
   "source": [
    "# We'll use skimage for file io:\n",
    "import skimage.io as skio"
   ]
  },
  {
   "cell_type": "code",
   "execution_count": 4,
   "metadata": {
    "collapsed": false
   },
   "outputs": [],
   "source": [
    "# Initalize a retina object:\n",
    "x = 3200\n",
    "y = 2500\n",
    "r = e2cm.Retina(axon_map='../retina_2500by3200_lambda4.npz',\n",
    "                sampling=25, ylo=-y, yhi=y, xlo=-x, xhi=x, axon_lambda=4)\n",
    "\n",
    "# These will hold the coordinates and radiuses of the electrodes:\n",
    "xlist=[]\n",
    "ylist=[]\n",
    "rlist=[]\n",
    "# Equally spaced:\n",
    "e_spacing = 525\n",
    "\n",
    "for x in np.arange(-2362, 2364, e_spacing):\n",
    "    for y in np.arange(-1312, 1314, e_spacing):\n",
    "        xlist.append(x)\n",
    "        ylist.append(y)\n",
    "        rlist.append(100)\n",
    "\n",
    "# Create an ElectrodeArray object:\n",
    "e_all = e2cm.ElectrodeArray(rlist,xlist,ylist)\n",
    "\n",
    "# Each electrode has its RF in the image, we collect all of these:\n",
    "e_rf=[]\n",
    "for e in e_all.electrodes:\n",
    "    e_rf.append(e2cm.receptive_field(e, r.gridx, r.gridy, e_spacing))\n",
    "    \n",
    "\n",
    "# We derive the effective current stimulation (ecs; passed through the effect of the retinal layout, axons, etc.) \n",
    "# in addition to the current (cs):\n",
    "ecs, cs  = r.electrode_ecs(e_all)\n",
    "\n",
    "# We think of this as a movie with 30 FPS:\n",
    "fps = 30\n",
    "\n",
    "# The temporal model contains the cascade of operations that leads from pulse to percept:\n",
    "tm1 = ec2b.TemporalModel()"
   ]
  },
  {
   "cell_type": "code",
   "execution_count": null,
   "metadata": {
    "collapsed": false
   },
   "outputs": [],
   "source": [
    "# Looping over all letters (this takes time!)\n",
    "for letter in string.ascii_uppercase:\n",
    "    # This inverts the polarity, you might not need it:\n",
    "    eyechart = (255 - skio.imread('./letters/%s.jpg'%letter)) / 255.\n",
    "    plt.matshow(eyechart, cmap='gray')\n",
    "    # This creates a \"movie\" with two frames (just a hack!)\n",
    "    frames = np.concatenate([eyechart[..., np.newaxis], eyechart[..., np.newaxis]],-1)\n",
    "    # The pulse trains:\n",
    "    pt=[]\n",
    "    for rf in e_rf:\n",
    "        #The luminance in each receptive field:\n",
    "        rflum = e2cm.retinalmovie2electrodtimeseries(rf, frames)\n",
    "        #plt.plot(rflum)\n",
    "        # Generate a pulse-train given the luminance in this RF:\n",
    "        ptrain = e2cm.Movie2Pulsetrain(rflum, amp_max=50)\n",
    "        #plt.plot(ptrain.data)\n",
    "        # We store these as we go along:\n",
    "        pt.append(ptrain)\n",
    "\n",
    "    rs=1/(fps*pt[0].tsample)  \n",
    "    # This is where the action happens -- the pulses are converted to a brightness movie\n",
    "    # using the temporal model cascade:\n",
    "    brightness_movie = ec2b.pulse2percept(tm1, ecs, r, pt,\n",
    "                                          int(rs), n_jobs=8, dojit=False, tol=.01)\n",
    "\n",
    "    fig, ax = plt.subplots(1)\n",
    "    ax.matshow(brightness_movie.data[:, :, 6], cmap='gray')\n",
    "    ax.set_axis_off()\n",
    "    fig.savefig(\"white_%s_percept.png\"%letter)"
   ]
  },
  {
   "cell_type": "code",
   "execution_count": null,
   "metadata": {
    "collapsed": true
   },
   "outputs": [],
   "source": []
  }
 ],
 "metadata": {
  "kernelspec": {
   "display_name": "Python 3",
   "language": "python",
   "name": "python3"
  },
  "language_info": {
   "codemirror_mode": {
    "name": "ipython",
    "version": 3
   },
   "file_extension": ".py",
   "mimetype": "text/x-python",
   "name": "python",
   "nbconvert_exporter": "python",
   "pygments_lexer": "ipython3",
   "version": "3.5.1"
  }
 },
 "nbformat": 4,
 "nbformat_minor": 0
}
