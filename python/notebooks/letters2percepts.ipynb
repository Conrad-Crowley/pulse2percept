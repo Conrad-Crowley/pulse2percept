{
 "cells": [
  {
   "cell_type": "code",
   "execution_count": 1,
   "metadata": {
    "collapsed": true
   },
   "outputs": [],
   "source": [
    "import sys\n",
    "sys.path.append('..')\n"
   ]
  },
  {
   "cell_type": "code",
   "execution_count": 2,
   "metadata": {
    "collapsed": true
   },
   "outputs": [],
   "source": [
    "import numpy as np\n",
    "import electrode2currentmap as e2cm\n",
    "import effectivecurrent2brightness as ec2b\n",
    "from scipy import interpolate\n",
    "from utils import TimeSeries\n",
    "import matplotlib.pyplot as plt\n",
    "from itertools import product\n",
    "import utils\n",
    "import time\n",
    "import string\n",
    "import scipy\n",
    "import matplotlib.pyplot as plt\n",
    "%matplotlib inline\n"
   ]
  },
  {
   "cell_type": "code",
   "execution_count": 3,
   "metadata": {
    "collapsed": true
   },
   "outputs": [],
   "source": [
    "import skimage.io as skio"
   ]
  },
  {
   "cell_type": "code",
   "execution_count": 4,
   "metadata": {
    "collapsed": false
   },
   "outputs": [],
   "source": [
    "x = 3200\n",
    "y = 2500\n",
    "r = e2cm.Retina(axon_map='../retina_2500by3200_lambda4.npz',\n",
    "                sampling=25, ylo=-y, yhi=y, xlo=-x, xhi=x, axon_lambda=4)\n",
    "\n",
    "xlist=[]\n",
    "ylist=[]\n",
    "rlist=[]\n",
    "e_spacing = 525\n",
    "\n",
    "for x in np.arange(-2362, 2364, e_spacing):\n",
    "    for y in np.arange(-1312, 1314, e_spacing):\n",
    "        xlist.append(x)\n",
    "        ylist.append(y)\n",
    "        rlist.append(100)\n",
    "\n",
    "e_all = e2cm.ElectrodeArray(rlist,xlist,ylist)\n",
    "\n",
    "e_rf=[]\n",
    "for e in e_all.electrodes:\n",
    "    e_rf.append(e2cm.receptive_field(e, r.gridx, r.gridy, e_spacing))\n",
    "    \n",
    "temporal_model = ec2b.TemporalModel()\n",
    "ecs, cs  = r.electrode_ecs(e_all)\n",
    "\n",
    "fps = 30\n",
    "tm1 = ec2b.TemporalModel()\n"
   ]
  },
  {
   "cell_type": "code",
   "execution_count": null,
   "metadata": {
    "collapsed": false
   },
   "outputs": [],
   "source": [
    "for letter in string.ascii_uppercase:\n",
    "    eyechart = (255 - skio.imread('./letters/%s.jpg'%letter)) / 255.\n",
    "    plt.matshow(eyechart, cmap='gray')\n",
    "    frames = np.concatenate([eyechart[..., np.newaxis], eyechart[..., np.newaxis]],-1)\n",
    "    pt=[]\n",
    "    for rf in e_rf:\n",
    "        rflum = e2cm.retinalmovie2electrodtimeseries(rf, frames)\n",
    "        #plt.plot(rflum)\n",
    "        ptrain = e2cm.Movie2Pulsetrain(rflum, amp_max=50)\n",
    "        #plt.plot(ptrain.data)\n",
    "        pt.append(ptrain)\n",
    "    rs=1/(fps*pt[0].tsample)  \n",
    "    brightness_movie = ec2b.pulse2percept(tm1, ecs, r, pt,\n",
    "                                          int(rs), n_jobs=8, dojit=False, tol=.01)\n",
    "\n",
    "    fig, ax = plt.subplots(1)\n",
    "    ax.matshow(brightness_movie.data[:, :, 6], cmap='gray')\n",
    "    ax.set_axis_off()\n",
    "    fig.savefig(\"white_%s_percept.png\"%letter)"
   ]
  },
  {
   "cell_type": "code",
   "execution_count": null,
   "metadata": {
    "collapsed": true
   },
   "outputs": [],
   "source": []
  }
 ],
 "metadata": {
  "kernelspec": {
   "display_name": "Python 3",
   "language": "python",
   "name": "python3"
  },
  "language_info": {
   "codemirror_mode": {
    "name": "ipython",
    "version": 3
   },
   "file_extension": ".py",
   "mimetype": "text/x-python",
   "name": "python",
   "nbconvert_exporter": "python",
   "pygments_lexer": "ipython3",
   "version": "3.5.1"
  }
 },
 "nbformat": 4,
 "nbformat_minor": 0
}
