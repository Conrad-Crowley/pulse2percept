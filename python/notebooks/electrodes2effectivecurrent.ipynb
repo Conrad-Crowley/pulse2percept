{
 "cells": [
  {
   "cell_type": "code",
   "execution_count": 7,
   "metadata": {
    "collapsed": true
   },
   "outputs": [],
   "source": [
    "import sys \n",
    "sys.path.append('..')"
   ]
  },
  {
   "cell_type": "code",
   "execution_count": 8,
   "metadata": {
    "collapsed": false
   },
   "outputs": [
    {
     "data": {
      "text/plain": [
       "<module 'electrode2currentmap' from '../electrode2currentmap.py'>"
      ]
     },
     "execution_count": 8,
     "metadata": {},
     "output_type": "execute_result"
    }
   ],
   "source": [
    "import electrode2currentmap as e2cm\n",
    "from importlib import reload\n",
    "reload(e2cm)"
   ]
  },
  {
   "cell_type": "code",
   "execution_count": 9,
   "metadata": {
    "collapsed": false
   },
   "outputs": [],
   "source": [
    "r = e2cm.Retina(axon_map='axon.npz')"
   ]
  },
  {
   "cell_type": "code",
   "execution_count": 10,
   "metadata": {
    "collapsed": true
   },
   "outputs": [],
   "source": [
    "import numpy as np\n",
    "import matplotlib.pyplot as plt\n",
    "%matplotlib inline"
   ]
  },
  {
   "cell_type": "code",
   "execution_count": 11,
   "metadata": {
    "collapsed": false
   },
   "outputs": [
    {
     "data": {
      "text/plain": [
       "<matplotlib.image.AxesImage at 0x7fe17a125898>"
      ]
     },
     "execution_count": 11,
     "metadata": {},
     "output_type": "execute_result"
    },
    {
     "data": {
      "image/png": "[encoded data removed]",
      "text/plain": [
       "<matplotlib.figure.Figure at 0x7fe172e44ba8>"
      ]
     },
     "metadata": {},
     "output_type": "display_data"
    }
   ],
   "source": [
    "# made-up current map\n",
    "xg = e2cm.micron2deg(r.gridx)\n",
    "yg = e2cm.micron2deg(r.gridy)\n",
    "\n",
    "cm = np.exp(-((xg-1)**2+(yg+3)**2)/1)\n",
    "cm[60:65,20:25]= 1\n",
    "\n",
    "cm[50:60,80:90]= 1\n",
    "cm = cm + np.exp(-((xg-2)**2+(yg-3)**2)/1)\n",
    "\n",
    "# show the currrent map as an image\n",
    "plt.subplot(1,2,1)\n",
    "plt.imshow(cm,cmap = 'viridis')\n",
    "\n",
    "# pass the current map through the axon map\n",
    "ecm = r.cm2ecm(cm)\n",
    "plt.subplot(1,2,2)\n",
    "plt.imshow(ecm, cmap = 'viridis')\n"
   ]
  },
  {
   "cell_type": "code",
   "execution_count": null,
   "metadata": {
    "collapsed": true
   },
   "outputs": [],
   "source": []
  }
 ],
 "metadata": {
  "kernelspec": {
   "display_name": "Python 3",
   "language": "python",
   "name": "python3"
  },
  "language_info": {
   "codemirror_mode": {
    "name": "ipython",
    "version": 3
   },
   "file_extension": ".py",
   "mimetype": "text/x-python",
   "name": "python",
   "nbconvert_exporter": "python",
   "pygments_lexer": "ipython3",
   "version": "3.5.1"
  }
 },
 "nbformat": 4,
 "nbformat_minor": 0
}
